{
 "cells": [
  {
   "cell_type": "code",
   "execution_count": 1,
   "metadata": {},
   "outputs": [],
   "source": [
    "from svd_engine import *"
   ]
  },
  {
   "cell_type": "code",
   "execution_count": 2,
   "metadata": {},
   "outputs": [],
   "source": [
    "# Getting matrices ready\n",
    "\n",
    "data = read_data()\n",
    "data = keep_movies_rated_by_at_least(data,perc=0)\n",
    "ratings = create_pivot_table(data)\n",
    "train, test = split(ratings)\n",
    "U, sigma, VT = compute_svd(train, 0.9)"
   ]
  },
  {
   "cell_type": "code",
   "execution_count": 3,
   "metadata": {},
   "outputs": [
    {
     "ename": "ValueError",
     "evalue": "shapes (1682,) and (480,) not aligned: 1682 (dim 0) != 480 (dim 0)",
     "output_type": "error",
     "traceback": [
      "\u001b[0;31m---------------------------------------------------------------------------\u001b[0m",
      "\u001b[0;31mValueError\u001b[0m                                Traceback (most recent call last)",
      "Cell \u001b[0;32mIn[3], line 2\u001b[0m\n\u001b[1;32m      1\u001b[0m u \u001b[39m=\u001b[39m test\u001b[39m.\u001b[39miloc[\u001b[39m6\u001b[39m]\n\u001b[0;32m----> 2\u001b[0m predictions \u001b[39m=\u001b[39m predict(u, VT, sigma, test\u001b[39m=\u001b[39;49m\u001b[39mFalse\u001b[39;49;00m)\n",
      "File \u001b[0;32m~/programming/github/svd-and-cur-recommenders/src/svd_engine.py:228\u001b[0m, in \u001b[0;36mpredict\u001b[0;34m(user, VT, sigma, test, top_k)\u001b[0m\n\u001b[1;32m    226\u001b[0m     movies \u001b[39m=\u001b[39m VT\u001b[39m.\u001b[39mcolumns\u001b[39m.\u001b[39mvalues\n\u001b[1;32m    227\u001b[0m \u001b[39mfor\u001b[39;00m movie \u001b[39min\u001b[39;00m movies:\n\u001b[0;32m--> 228\u001b[0m     y\u001b[39m.\u001b[39mappend((movie, np\u001b[39m.\u001b[39;49mdot(user, np\u001b[39m.\u001b[39;49mdot(sigma, VT\u001b[39m.\u001b[39;49mloc[:, movie]))))\n\u001b[1;32m    229\u001b[0m \u001b[39mreturn\u001b[39;00m clean_preds(y)\n",
      "File \u001b[0;32m<__array_function__ internals>:180\u001b[0m, in \u001b[0;36mdot\u001b[0;34m(*args, **kwargs)\u001b[0m\n",
      "\u001b[0;31mValueError\u001b[0m: shapes (1682,) and (480,) not aligned: 1682 (dim 0) != 480 (dim 0)"
     ]
    }
   ],
   "source": [
    "u = test.iloc[6]\n",
    "predictions = predict(u, VT, sigma, test=False)"
   ]
  },
  {
   "cell_type": "code",
   "execution_count": null,
   "metadata": {},
   "outputs": [],
   "source": [
    "predictions"
   ]
  },
  {
   "cell_type": "code",
   "execution_count": null,
   "metadata": {},
   "outputs": [],
   "source": [
    "sorted(predictions, key=lambda x: x[1], reverse=True)"
   ]
  },
  {
   "cell_type": "code",
   "execution_count": null,
   "metadata": {},
   "outputs": [],
   "source": [
    "u.iloc[[x[0]-1 for x in predictions]].sort_values(ascending=False)"
   ]
  },
  {
   "cell_type": "code",
   "execution_count": null,
   "metadata": {},
   "outputs": [],
   "source": []
  }
 ],
 "metadata": {
  "kernelspec": {
   "display_name": "ml",
   "language": "python",
   "name": "python3"
  },
  "language_info": {
   "codemirror_mode": {
    "name": "ipython",
    "version": 3
   },
   "file_extension": ".py",
   "mimetype": "text/x-python",
   "name": "python",
   "nbconvert_exporter": "python",
   "pygments_lexer": "ipython3",
   "version": "3.10.9"
  },
  "orig_nbformat": 4
 },
 "nbformat": 4,
 "nbformat_minor": 2
}
