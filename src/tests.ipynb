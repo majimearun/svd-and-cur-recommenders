{
 "cells": [
  {
   "attachments": {},
   "cell_type": "markdown",
   "metadata": {},
   "source": [
    "# IR Assignment 3\n",
    "## Part 3 (SVD) and 4 (CUR)"
   ]
  },
  {
   "cell_type": "code",
   "execution_count": 1,
   "metadata": {},
   "outputs": [],
   "source": [
    "from svd_engine import *\n",
    "from cur_engine import *"
   ]
  },
  {
   "cell_type": "code",
   "execution_count": 2,
   "metadata": {},
   "outputs": [
    {
     "name": "stdout",
     "output_type": "stream",
     "text": [
      "100000\n",
      "11995\n"
     ]
    }
   ],
   "source": [
    "data = read_data()\n",
    "print(len(data))\n",
    "data = keep_movies_rated_by_at_least(data,perc=0.33)\n",
    "print(len(data))\n",
    "ratings = create_pivot_table(data)\n",
    "train, test = split(ratings, 0.2)"
   ]
  },
  {
   "attachments": {},
   "cell_type": "markdown",
   "metadata": {},
   "source": [
    "## Part 3: SVD"
   ]
  },
  {
   "attachments": {},
   "cell_type": "markdown",
   "metadata": {},
   "source": [
    "### Preserving 100% variance"
   ]
  },
  {
   "cell_type": "code",
   "execution_count": 3,
   "metadata": {},
   "outputs": [
    {
     "name": "stdout",
     "output_type": "stream",
     "text": [
      "(2402, 2) (2402, 2)\n",
      "RMSE: [[2.05242487e-15]]\n",
      "Top 5 precision: 81.063829787234%\n",
      "Number of latent factors: 30\n",
      "Spearmans correlation: 0.9563540377616039\n"
     ]
    }
   ],
   "source": [
    "U, sigma, VT, k_100 = compute_svd(train, 1)\n",
    "svd_score(test, U, sigma, VT)"
   ]
  },
  {
   "attachments": {},
   "cell_type": "markdown",
   "metadata": {},
   "source": [
    "### Running a test on a single prediction"
   ]
  },
  {
   "cell_type": "code",
   "execution_count": 4,
   "metadata": {},
   "outputs": [
    {
     "data": {
      "text/plain": [
       "5.0"
      ]
     },
     "execution_count": 4,
     "metadata": {},
     "output_type": "execute_result"
    }
   ],
   "source": [
    "# Actual rating\n",
    "test.loc[97, 7]"
   ]
  },
  {
   "cell_type": "code",
   "execution_count": 5,
   "metadata": {},
   "outputs": [
    {
     "data": {
      "text/plain": [
       "5.000000000000002"
      ]
     },
     "execution_count": 5,
     "metadata": {},
     "output_type": "execute_result"
    }
   ],
   "source": [
    "# Predicted rating\n",
    "svr_predict(97, test.loc[97].values, 7, U, sigma, VT)[0][0]"
   ]
  },
  {
   "attachments": {},
   "cell_type": "markdown",
   "metadata": {},
   "source": [
    "### Preserving 90% variance"
   ]
  },
  {
   "cell_type": "code",
   "execution_count": 6,
   "metadata": {},
   "outputs": [
    {
     "name": "stdout",
     "output_type": "stream",
     "text": [
      "(2402, 2) (2402, 2)\n",
      "RMSE: [[0.52320357]]\n",
      "Top 5 precision: 75.63829787234042%\n",
      "Number of latent factors: 25\n",
      "Spearmans correlation: 0.8663403391384661\n"
     ]
    }
   ],
   "source": [
    "U, sigma, VT, k_90 = compute_svd(train, 0.9)\n",
    "svd_score(test, U, sigma, VT)"
   ]
  },
  {
   "attachments": {},
   "cell_type": "markdown",
   "metadata": {},
   "source": [
    "## Part 4: CUR"
   ]
  },
  {
   "cell_type": "markdown",
   "metadata": {},
   "source": [
    "### Preserving 100% variance"
   ]
  },
  {
   "cell_type": "code",
   "execution_count": 7,
   "metadata": {},
   "outputs": [
    {
     "name": "stdout",
     "output_type": "stream",
     "text": [
      "(2402, 2) (2402, 2)\n",
      "RMSE: 2.2926159569208086e-14\n",
      "Top 5 precision: 84.36170212765958%\n",
      "Number of latent factors: 30\n",
      "Spearmans correlation: 0.9542643465624964\n"
     ]
    }
   ],
   "source": [
    "C, U, R = cur_decomposition(ratings, k_100)\n",
    "cur_score(test, C, U, R)"
   ]
  },
  {
   "cell_type": "markdown",
   "metadata": {},
   "source": [
    "### Running a test on a single prediction"
   ]
  },
  {
   "cell_type": "code",
   "execution_count": 8,
   "metadata": {},
   "outputs": [
    {
     "data": {
      "text/plain": [
       "5.0"
      ]
     },
     "execution_count": 8,
     "metadata": {},
     "output_type": "execute_result"
    }
   ],
   "source": [
    "# Actual rating\n",
    "test.loc[97, 7]"
   ]
  },
  {
   "cell_type": "code",
   "execution_count": 9,
   "metadata": {},
   "outputs": [
    {
     "data": {
      "text/plain": [
       "4.999999999999922"
      ]
     },
     "execution_count": 9,
     "metadata": {},
     "output_type": "execute_result"
    }
   ],
   "source": [
    "# Predicted rating\n",
    "cur_predict(97, 7, C, U, R)"
   ]
  },
  {
   "cell_type": "markdown",
   "metadata": {},
   "source": [
    "### Preserving 90% variance"
   ]
  },
  {
   "cell_type": "code",
   "execution_count": 10,
   "metadata": {},
   "outputs": [
    {
     "name": "stdout",
     "output_type": "stream",
     "text": [
      "(2402, 2) (2402, 2)\n",
      "RMSE: 0.9014200802390637\n",
      "Top 5 precision: 71.17021276595732%\n",
      "Number of latent factors: 25\n",
      "Spearmans correlation: 0.7446852228577642\n"
     ]
    }
   ],
   "source": [
    "C, U, R = cur_decomposition(ratings, k_90)\n",
    "cur_score(test, C, U, R)"
   ]
  }
 ],
 "metadata": {
  "kernelspec": {
   "display_name": "ml",
   "language": "python",
   "name": "python3"
  },
  "language_info": {
   "codemirror_mode": {
    "name": "ipython",
    "version": 3
   },
   "file_extension": ".py",
   "mimetype": "text/x-python",
   "name": "python",
   "nbconvert_exporter": "python",
   "pygments_lexer": "ipython3",
   "version": "3.10.9"
  },
  "orig_nbformat": 4
 },
 "nbformat": 4,
 "nbformat_minor": 2
}
