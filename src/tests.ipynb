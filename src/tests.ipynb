{
 "cells": [
  {
   "cell_type": "code",
   "execution_count": 1,
   "metadata": {},
   "outputs": [],
   "source": [
    "from svd_engine import *"
   ]
  },
  {
   "cell_type": "code",
   "execution_count": 7,
   "metadata": {},
   "outputs": [
    {
     "name": "stdout",
     "output_type": "stream",
     "text": [
      "100000\n",
      "11995\n"
     ]
    }
   ],
   "source": [
    "data = read_data()\n",
    "print(len(data))\n",
    "data = keep_movies_rated_by_at_least(data,perc=0.33)\n",
    "print(len(data))\n",
    "ratings = create_pivot_table(data)\n",
    "train, test = split(ratings, 0.2)"
   ]
  },
  {
   "cell_type": "code",
   "execution_count": 8,
   "metadata": {},
   "outputs": [
    {
     "name": "stdout",
     "output_type": "stream",
     "text": [
      "RMSE: 2.0524248720723635e-15\n",
      "Top 5 precision: 81.063829787234%\n"
     ]
    }
   ],
   "source": [
    "U, sigma, VT = compute_svd(train, 1)\n",
    "score(test, U, sigma, VT)"
   ]
  },
  {
   "cell_type": "code",
   "execution_count": 9,
   "metadata": {},
   "outputs": [
    {
     "name": "stdout",
     "output_type": "stream",
     "text": [
      "RMSE: 0.5232035676619431\n",
      "Top 5 precision: 75.63829787234042%\n"
     ]
    }
   ],
   "source": [
    "U, sigma, VT = compute_svd(train, 0.9)\n",
    "score(test, U, sigma, VT)"
   ]
  },
  {
   "cell_type": "code",
   "execution_count": 17,
   "metadata": {},
   "outputs": [
    {
     "data": {
      "text/plain": [
       "5.0"
      ]
     },
     "execution_count": 17,
     "metadata": {},
     "output_type": "execute_result"
    }
   ],
   "source": [
    "# Actual rating\n",
    "test.loc[97, 7]"
   ]
  },
  {
   "cell_type": "code",
   "execution_count": 19,
   "metadata": {},
   "outputs": [
    {
     "data": {
      "text/plain": [
       "4.812243419886498"
      ]
     },
     "execution_count": 19,
     "metadata": {},
     "output_type": "execute_result"
    }
   ],
   "source": [
    "# Predicted rating\n",
    "predict(97, test.loc[97].values, 7, U, sigma, VT)[0][0]"
   ]
  }
 ],
 "metadata": {
  "kernelspec": {
   "display_name": "ml",
   "language": "python",
   "name": "python3"
  },
  "language_info": {
   "codemirror_mode": {
    "name": "ipython",
    "version": 3
   },
   "file_extension": ".py",
   "mimetype": "text/x-python",
   "name": "python",
   "nbconvert_exporter": "python",
   "pygments_lexer": "ipython3",
   "version": "3.10.9"
  },
  "orig_nbformat": 4
 },
 "nbformat": 4,
 "nbformat_minor": 2
}
